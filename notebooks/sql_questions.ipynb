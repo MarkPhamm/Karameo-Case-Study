{
 "cells": [
  {
   "cell_type": "code",
   "execution_count": 9,
   "metadata": {},
   "outputs": [
    {
     "name": "stdout",
     "output_type": "stream",
     "text": [
      "The magic_duckdb extension is already loaded. To reload it, use:\n",
      "  %reload_ext magic_duckdb\n"
     ]
    }
   ],
   "source": [
    "%load_ext magic_duckdb"
   ]
  },
  {
   "cell_type": "code",
   "execution_count": 10,
   "metadata": {},
   "outputs": [
    {
     "data": {
      "text/html": [
       "<div>\n",
       "<style scoped>\n",
       "    .dataframe tbody tr th:only-of-type {\n",
       "        vertical-align: middle;\n",
       "    }\n",
       "\n",
       "    .dataframe tbody tr th {\n",
       "        vertical-align: top;\n",
       "    }\n",
       "\n",
       "    .dataframe thead th {\n",
       "        text-align: right;\n",
       "    }\n",
       "</style>\n",
       "<table border=\"1\" class=\"dataframe\">\n",
       "  <thead>\n",
       "    <tr style=\"text-align: right;\">\n",
       "      <th></th>\n",
       "      <th>Success</th>\n",
       "    </tr>\n",
       "  </thead>\n",
       "  <tbody>\n",
       "  </tbody>\n",
       "</table>\n",
       "</div>"
      ],
      "text/plain": [
       "Empty DataFrame\n",
       "Columns: [Success]\n",
       "Index: []"
      ]
     },
     "execution_count": 10,
     "metadata": {},
     "output_type": "execute_result"
    }
   ],
   "source": [
    "%%dql -t df\n",
    "INSTALL httpfs;"
   ]
  },
  {
   "cell_type": "code",
   "execution_count": 11,
   "metadata": {},
   "outputs": [
    {
     "data": {
      "text/html": [
       "<div>\n",
       "<style scoped>\n",
       "    .dataframe tbody tr th:only-of-type {\n",
       "        vertical-align: middle;\n",
       "    }\n",
       "\n",
       "    .dataframe tbody tr th {\n",
       "        vertical-align: top;\n",
       "    }\n",
       "\n",
       "    .dataframe thead th {\n",
       "        text-align: right;\n",
       "    }\n",
       "</style>\n",
       "<table border=\"1\" class=\"dataframe\">\n",
       "  <thead>\n",
       "    <tr style=\"text-align: right;\">\n",
       "      <th></th>\n",
       "      <th>Success</th>\n",
       "    </tr>\n",
       "  </thead>\n",
       "  <tbody>\n",
       "  </tbody>\n",
       "</table>\n",
       "</div>"
      ],
      "text/plain": [
       "Empty DataFrame\n",
       "Columns: [Success]\n",
       "Index: []"
      ]
     },
     "execution_count": 11,
     "metadata": {},
     "output_type": "execute_result"
    }
   ],
   "source": [
    "%%dql -t df\n",
    "LOAD  httpfs;"
   ]
  },
  {
   "cell_type": "code",
   "execution_count": 12,
   "metadata": {},
   "outputs": [
    {
     "data": {
      "text/html": [
       "<div>\n",
       "<style scoped>\n",
       "    .dataframe tbody tr th:only-of-type {\n",
       "        vertical-align: middle;\n",
       "    }\n",
       "\n",
       "    .dataframe tbody tr th {\n",
       "        vertical-align: top;\n",
       "    }\n",
       "\n",
       "    .dataframe thead th {\n",
       "        text-align: right;\n",
       "    }\n",
       "</style>\n",
       "<table border=\"1\" class=\"dataframe\">\n",
       "  <thead>\n",
       "    <tr style=\"text-align: right;\">\n",
       "      <th></th>\n",
       "      <th>Channel</th>\n",
       "      <th>Category</th>\n",
       "      <th>GMV</th>\n",
       "    </tr>\n",
       "  </thead>\n",
       "  <tbody>\n",
       "    <tr>\n",
       "      <th>0</th>\n",
       "      <td>Horeca</td>\n",
       "      <td>Vegetable</td>\n",
       "      <td>69.3</td>\n",
       "    </tr>\n",
       "    <tr>\n",
       "      <th>1</th>\n",
       "      <td>Horeca</td>\n",
       "      <td>Fruit</td>\n",
       "      <td>25.3</td>\n",
       "    </tr>\n",
       "    <tr>\n",
       "      <th>2</th>\n",
       "      <td>Horeca</td>\n",
       "      <td>Non-veggie</td>\n",
       "      <td>73.0</td>\n",
       "    </tr>\n",
       "    <tr>\n",
       "      <th>3</th>\n",
       "      <td>Horeca</td>\n",
       "      <td>Meat</td>\n",
       "      <td>22.8</td>\n",
       "    </tr>\n",
       "    <tr>\n",
       "      <th>4</th>\n",
       "      <td>MT</td>\n",
       "      <td>Vegetable</td>\n",
       "      <td>10.9</td>\n",
       "    </tr>\n",
       "    <tr>\n",
       "      <th>5</th>\n",
       "      <td>MT</td>\n",
       "      <td>Fruit</td>\n",
       "      <td>1.1</td>\n",
       "    </tr>\n",
       "    <tr>\n",
       "      <th>6</th>\n",
       "      <td>MT</td>\n",
       "      <td>Non-veggie</td>\n",
       "      <td>0.9</td>\n",
       "    </tr>\n",
       "    <tr>\n",
       "      <th>7</th>\n",
       "      <td>MT</td>\n",
       "      <td>Meat</td>\n",
       "      <td>0.4</td>\n",
       "    </tr>\n",
       "    <tr>\n",
       "      <th>8</th>\n",
       "      <td>KA</td>\n",
       "      <td>Vegetable</td>\n",
       "      <td>14.6</td>\n",
       "    </tr>\n",
       "    <tr>\n",
       "      <th>9</th>\n",
       "      <td>KA</td>\n",
       "      <td>Fruit</td>\n",
       "      <td>0.6</td>\n",
       "    </tr>\n",
       "    <tr>\n",
       "      <th>10</th>\n",
       "      <td>KA</td>\n",
       "      <td>Non-veggie</td>\n",
       "      <td>8.0</td>\n",
       "    </tr>\n",
       "    <tr>\n",
       "      <th>11</th>\n",
       "      <td>KA</td>\n",
       "      <td>Meat</td>\n",
       "      <td>2.2</td>\n",
       "    </tr>\n",
       "    <tr>\n",
       "      <th>12</th>\n",
       "      <td>3rd Party</td>\n",
       "      <td>Vegetable</td>\n",
       "      <td>0.8</td>\n",
       "    </tr>\n",
       "    <tr>\n",
       "      <th>13</th>\n",
       "      <td>3rd Party</td>\n",
       "      <td>Fruit</td>\n",
       "      <td>0.6</td>\n",
       "    </tr>\n",
       "    <tr>\n",
       "      <th>14</th>\n",
       "      <td>3rd Party</td>\n",
       "      <td>Non-veggie</td>\n",
       "      <td>1.2</td>\n",
       "    </tr>\n",
       "    <tr>\n",
       "      <th>15</th>\n",
       "      <td>3rd Party</td>\n",
       "      <td>Meat</td>\n",
       "      <td>0.0</td>\n",
       "    </tr>\n",
       "  </tbody>\n",
       "</table>\n",
       "</div>"
      ],
      "text/plain": [
       "      Channel    Category   GMV\n",
       "0      Horeca   Vegetable  69.3\n",
       "1      Horeca       Fruit  25.3\n",
       "2      Horeca  Non-veggie  73.0\n",
       "3      Horeca        Meat  22.8\n",
       "4          MT   Vegetable  10.9\n",
       "5          MT       Fruit   1.1\n",
       "6          MT  Non-veggie   0.9\n",
       "7          MT        Meat   0.4\n",
       "8          KA   Vegetable  14.6\n",
       "9          KA       Fruit   0.6\n",
       "10         KA  Non-veggie   8.0\n",
       "11         KA        Meat   2.2\n",
       "12  3rd Party   Vegetable   0.8\n",
       "13  3rd Party       Fruit   0.6\n",
       "14  3rd Party  Non-veggie   1.2\n",
       "15  3rd Party        Meat   0.0"
      ]
     },
     "execution_count": 12,
     "metadata": {},
     "output_type": "execute_result"
    }
   ],
   "source": [
    "%%dql\n",
    "SELECT *\n",
    "FROM 'https://raw.githubusercontent.com/MarkPhamm/test-kamereo/main/data/data_sql.csv'"
   ]
  },
  {
   "attachments": {
    "image.png": {
     "image/png": "[encoded data removed]"
    }
   },
   "cell_type": "markdown",
   "metadata": {},
   "source": [
    "# **Question 1**:\n",
    "Write a SQL query to find the best category in each channel (in GMV). Expected result:\n",
    "\n",
    "![image.png](attachment:image.png)"
   ]
  },
  {
   "cell_type": "markdown",
   "metadata": {},
   "source": [
    "## **1.1: Solution 1: RANK() OVER()**\n",
    "Using RANK() window function"
   ]
  },
  {
   "cell_type": "code",
   "execution_count": 21,
   "metadata": {},
   "outputs": [
    {
     "data": {
      "text/html": [
       "<div>\n",
       "<style scoped>\n",
       "    .dataframe tbody tr th:only-of-type {\n",
       "        vertical-align: middle;\n",
       "    }\n",
       "\n",
       "    .dataframe tbody tr th {\n",
       "        vertical-align: top;\n",
       "    }\n",
       "\n",
       "    .dataframe thead th {\n",
       "        text-align: right;\n",
       "    }\n",
       "</style>\n",
       "<table border=\"1\" class=\"dataframe\">\n",
       "  <thead>\n",
       "    <tr style=\"text-align: right;\">\n",
       "      <th></th>\n",
       "      <th>Channel</th>\n",
       "      <th>Category</th>\n",
       "      <th>GMV</th>\n",
       "    </tr>\n",
       "  </thead>\n",
       "  <tbody>\n",
       "    <tr>\n",
       "      <th>0</th>\n",
       "      <td>Horeca</td>\n",
       "      <td>Non-veggie</td>\n",
       "      <td>73.0</td>\n",
       "    </tr>\n",
       "    <tr>\n",
       "      <th>1</th>\n",
       "      <td>KA</td>\n",
       "      <td>Vegetable</td>\n",
       "      <td>14.6</td>\n",
       "    </tr>\n",
       "    <tr>\n",
       "      <th>2</th>\n",
       "      <td>MT</td>\n",
       "      <td>Vegetable</td>\n",
       "      <td>10.9</td>\n",
       "    </tr>\n",
       "    <tr>\n",
       "      <th>3</th>\n",
       "      <td>3rd Party</td>\n",
       "      <td>Non-veggie</td>\n",
       "      <td>1.2</td>\n",
       "    </tr>\n",
       "  </tbody>\n",
       "</table>\n",
       "</div>"
      ],
      "text/plain": [
       "     Channel    Category   GMV\n",
       "0     Horeca  Non-veggie  73.0\n",
       "1         KA   Vegetable  14.6\n",
       "2         MT   Vegetable  10.9\n",
       "3  3rd Party  Non-veggie   1.2"
      ]
     },
     "execution_count": 21,
     "metadata": {},
     "output_type": "execute_result"
    }
   ],
   "source": [
    "%%dql\n",
    "WITH CTE AS (\n",
    "    SELECT \n",
    "        *,\n",
    "        RANK() OVER (PARTITION BY Channel ORDER BY GMV DESC) AS ranking\n",
    "    FROM 'https://raw.githubusercontent.com/MarkPhamm/test-kamereo/main/data/data_sql.csv'\n",
    ")\n",
    "\n",
    "SELECT \n",
    "    Channel, \n",
    "    Category,\n",
    "    GMV\n",
    "FROM CTE\n",
    "WHERE ranking = 1\n",
    "ORDER BY GMV DESC\n"
   ]
  },
  {
   "cell_type": "markdown",
   "metadata": {},
   "source": [
    "## **1.2: Solution 2: MAX() OVER()**\n",
    "Using MAX() OVER() window function"
   ]
  },
  {
   "cell_type": "code",
   "execution_count": 25,
   "metadata": {},
   "outputs": [
    {
     "data": {
      "text/html": [
       "<div>\n",
       "<style scoped>\n",
       "    .dataframe tbody tr th:only-of-type {\n",
       "        vertical-align: middle;\n",
       "    }\n",
       "\n",
       "    .dataframe tbody tr th {\n",
       "        vertical-align: top;\n",
       "    }\n",
       "\n",
       "    .dataframe thead th {\n",
       "        text-align: right;\n",
       "    }\n",
       "</style>\n",
       "<table border=\"1\" class=\"dataframe\">\n",
       "  <thead>\n",
       "    <tr style=\"text-align: right;\">\n",
       "      <th></th>\n",
       "      <th>Channel</th>\n",
       "      <th>Category</th>\n",
       "      <th>GMV</th>\n",
       "    </tr>\n",
       "  </thead>\n",
       "  <tbody>\n",
       "    <tr>\n",
       "      <th>0</th>\n",
       "      <td>Horeca</td>\n",
       "      <td>Non-veggie</td>\n",
       "      <td>73.0</td>\n",
       "    </tr>\n",
       "    <tr>\n",
       "      <th>1</th>\n",
       "      <td>KA</td>\n",
       "      <td>Vegetable</td>\n",
       "      <td>14.6</td>\n",
       "    </tr>\n",
       "    <tr>\n",
       "      <th>2</th>\n",
       "      <td>MT</td>\n",
       "      <td>Vegetable</td>\n",
       "      <td>10.9</td>\n",
       "    </tr>\n",
       "    <tr>\n",
       "      <th>3</th>\n",
       "      <td>3rd Party</td>\n",
       "      <td>Non-veggie</td>\n",
       "      <td>1.2</td>\n",
       "    </tr>\n",
       "  </tbody>\n",
       "</table>\n",
       "</div>"
      ],
      "text/plain": [
       "     Channel    Category   GMV\n",
       "0     Horeca  Non-veggie  73.0\n",
       "1         KA   Vegetable  14.6\n",
       "2         MT   Vegetable  10.9\n",
       "3  3rd Party  Non-veggie   1.2"
      ]
     },
     "execution_count": 25,
     "metadata": {},
     "output_type": "execute_result"
    }
   ],
   "source": [
    "%%dql\n",
    "WITH CTE AS (\n",
    "    SELECT \n",
    "        *,\n",
    "        MAX(GMV) OVER (PARTITION BY Channel) AS max_GMV\n",
    "    FROM 'https://raw.githubusercontent.com/MarkPhamm/test-kamereo/main/data/data_sql.csv'\n",
    ")\n",
    "\n",
    "SELECT \n",
    "    Channel, \n",
    "    Category,\n",
    "    GMV\n",
    "FROM CTE\n",
    "WHERE GMV = max_GMV\n",
    "ORDER BY GMV DESC"
   ]
  },
  {
   "cell_type": "markdown",
   "metadata": {},
   "source": [
    "## **1.3: Solution 3: MAX() + GROUP BY**"
   ]
  },
  {
   "cell_type": "code",
   "execution_count": 32,
   "metadata": {},
   "outputs": [
    {
     "data": {
      "text/html": [
       "<div>\n",
       "<style scoped>\n",
       "    .dataframe tbody tr th:only-of-type {\n",
       "        vertical-align: middle;\n",
       "    }\n",
       "\n",
       "    .dataframe tbody tr th {\n",
       "        vertical-align: top;\n",
       "    }\n",
       "\n",
       "    .dataframe thead th {\n",
       "        text-align: right;\n",
       "    }\n",
       "</style>\n",
       "<table border=\"1\" class=\"dataframe\">\n",
       "  <thead>\n",
       "    <tr style=\"text-align: right;\">\n",
       "      <th></th>\n",
       "      <th>Channel</th>\n",
       "      <th>Category</th>\n",
       "      <th>GMV</th>\n",
       "    </tr>\n",
       "  </thead>\n",
       "  <tbody>\n",
       "    <tr>\n",
       "      <th>0</th>\n",
       "      <td>Horeca</td>\n",
       "      <td>Non-veggie</td>\n",
       "      <td>73.0</td>\n",
       "    </tr>\n",
       "    <tr>\n",
       "      <th>1</th>\n",
       "      <td>MT</td>\n",
       "      <td>Vegetable</td>\n",
       "      <td>10.9</td>\n",
       "    </tr>\n",
       "    <tr>\n",
       "      <th>2</th>\n",
       "      <td>KA</td>\n",
       "      <td>Vegetable</td>\n",
       "      <td>14.6</td>\n",
       "    </tr>\n",
       "    <tr>\n",
       "      <th>3</th>\n",
       "      <td>3rd Party</td>\n",
       "      <td>Non-veggie</td>\n",
       "      <td>1.2</td>\n",
       "    </tr>\n",
       "  </tbody>\n",
       "</table>\n",
       "</div>"
      ],
      "text/plain": [
       "     Channel    Category   GMV\n",
       "0     Horeca  Non-veggie  73.0\n",
       "1         MT   Vegetable  10.9\n",
       "2         KA   Vegetable  14.6\n",
       "3  3rd Party  Non-veggie   1.2"
      ]
     },
     "execution_count": 32,
     "metadata": {},
     "output_type": "execute_result"
    }
   ],
   "source": [
    "%%dql\n",
    "WITH CTE AS (\n",
    "    SELECT \n",
    "        Channel,\n",
    "        MAX(GMV) as max_GMV\n",
    "    FROM 'https://raw.githubusercontent.com/MarkPhamm/test-kamereo/main/data/data_sql.csv'\n",
    "    GROUP BY Channel\n",
    ")\n",
    "\n",
    "SELECT * FROM 'https://raw.githubusercontent.com/MarkPhamm/test-kamereo/main/data/data_sql.csv'\n",
    "WHERE GMV in (SELECT max_GMV FROM CTE)"
   ]
  },
  {
   "attachments": {
    "image.png": {
     "image/png": "[encoded data removed]"
    }
   },
   "cell_type": "markdown",
   "metadata": {},
   "source": [
    "# **Question 2:**\n",
    "Write a SQL query to find how many percentages each category is higher or lower between Horeca and MT channel. Expected result:\n",
    "\n",
    "![image.png](attachment:image.png)\n",
    "\n",
    "Clarify the comparison columns?"
   ]
  },
  {
   "cell_type": "code",
   "execution_count": 49,
   "metadata": {},
   "outputs": [
    {
     "data": {
      "text/html": [
       "<div>\n",
       "<style scoped>\n",
       "    .dataframe tbody tr th:only-of-type {\n",
       "        vertical-align: middle;\n",
       "    }\n",
       "\n",
       "    .dataframe tbody tr th {\n",
       "        vertical-align: top;\n",
       "    }\n",
       "\n",
       "    .dataframe thead th {\n",
       "        text-align: right;\n",
       "    }\n",
       "</style>\n",
       "<table border=\"1\" class=\"dataframe\">\n",
       "  <thead>\n",
       "    <tr style=\"text-align: right;\">\n",
       "      <th></th>\n",
       "      <th>Channel_1</th>\n",
       "      <th>Channel_2</th>\n",
       "      <th>Category</th>\n",
       "      <th>GMV_1</th>\n",
       "      <th>GMV_2</th>\n",
       "      <th>Comparison</th>\n",
       "    </tr>\n",
       "  </thead>\n",
       "  <tbody>\n",
       "    <tr>\n",
       "      <th>0</th>\n",
       "      <td>Horeca</td>\n",
       "      <td>MT</td>\n",
       "      <td>Fruit</td>\n",
       "      <td>25.3</td>\n",
       "      <td>1.1</td>\n",
       "      <td>22.00</td>\n",
       "    </tr>\n",
       "    <tr>\n",
       "      <th>1</th>\n",
       "      <td>Horeca</td>\n",
       "      <td>MT</td>\n",
       "      <td>Meat</td>\n",
       "      <td>22.8</td>\n",
       "      <td>0.4</td>\n",
       "      <td>56.00</td>\n",
       "    </tr>\n",
       "    <tr>\n",
       "      <th>2</th>\n",
       "      <td>Horeca</td>\n",
       "      <td>MT</td>\n",
       "      <td>Non-veggie</td>\n",
       "      <td>73.0</td>\n",
       "      <td>0.9</td>\n",
       "      <td>80.11</td>\n",
       "    </tr>\n",
       "    <tr>\n",
       "      <th>3</th>\n",
       "      <td>Horeca</td>\n",
       "      <td>MT</td>\n",
       "      <td>Vegetable</td>\n",
       "      <td>69.3</td>\n",
       "      <td>10.9</td>\n",
       "      <td>5.36</td>\n",
       "    </tr>\n",
       "  </tbody>\n",
       "</table>\n",
       "</div>"
      ],
      "text/plain": [
       "  Channel_1 Channel_2    Category  GMV_1  GMV_2  Comparison\n",
       "0    Horeca        MT       Fruit   25.3    1.1       22.00\n",
       "1    Horeca        MT        Meat   22.8    0.4       56.00\n",
       "2    Horeca        MT  Non-veggie   73.0    0.9       80.11\n",
       "3    Horeca        MT   Vegetable   69.3   10.9        5.36"
      ]
     },
     "execution_count": 49,
     "metadata": {},
     "output_type": "execute_result"
    }
   ],
   "source": [
    "%%dql\n",
    "WITH Channel_1 AS (\n",
    "    SELECT \n",
    "        *\n",
    "    FROM 'https://raw.githubusercontent.com/MarkPhamm/test-kamereo/main/data/data_sql.csv'\n",
    "    WHERE Channel = 'Horeca'\n",
    "),\n",
    "\n",
    "Channel_2 AS (\n",
    "    SELECT \n",
    "        *\n",
    "    FROM 'https://raw.githubusercontent.com/MarkPhamm/test-kamereo/main/data/data_sql.csv'\n",
    "    WHERE Channel = 'MT'\n",
    ")\n",
    "\n",
    "\n",
    "SELECT \n",
    "    c1.Channel as Channel_1,\n",
    "    c2.Channel as Channel_2,\n",
    "    c1.Category as Category,\n",
    "    c1.GMV as GMV_1,\n",
    "    c2.GMV as GMV_2,\n",
    "    ROUND((c1.GMV-c2.GMV)/c2.GMV,2) as Comparison\n",
    "FROM Channel_1 c1\n",
    "JOIN Channel_2 c2\n",
    "ON c1.Category = c2.Category\n",
    "ORDER BY Category\n"
   ]
  }
 ],
 "metadata": {
  "kernelspec": {
   "display_name": ".venv",
   "language": "python",
   "name": "python3"
  },
  "language_info": {
   "codemirror_mode": {
    "name": "ipython",
    "version": 3
   },
   "file_extension": ".py",
   "mimetype": "text/x-python",
   "name": "python",
   "nbconvert_exporter": "python",
   "pygments_lexer": "ipython3",
   "version": "3.12.5"
  }
 },
 "nbformat": 4,
 "nbformat_minor": 2
}
